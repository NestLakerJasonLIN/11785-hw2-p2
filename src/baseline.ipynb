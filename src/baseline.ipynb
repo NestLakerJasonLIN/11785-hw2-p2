{
 "cells": [
  {
   "cell_type": "code",
   "execution_count": null,
   "metadata": {},
   "outputs": [],
   "source": [
    "import torch\n",
    "import numpy as np\n",
    "import torchvision.datasets as datasets"
   ]
  },
  {
   "cell_type": "code",
   "execution_count": null,
   "metadata": {},
   "outputs": [],
   "source": [
    "print(\"torch version: \\t\", torch.__version__)\n",
    "print(\"np version: \\t\", np.__version__)"
   ]
  },
  {
   "cell_type": "code",
   "execution_count": null,
   "metadata": {},
   "outputs": [],
   "source": [
    "root = \"../data/\"\n",
    "dataset_cat = \"medium\"\n",
    "\n",
    "val_cls = root + \"validation_classification/\" + dataset_cat\n",
    "test_cls = root + \"test_classification/\" + \"medium\"\n",
    "# train_cls = root + \"train_data/\" + dataset_cat # for actual training\n",
    "train_cls = val_cls # for development\n",
    "\n",
    "val_vrf = root + \"validation_verification\"\n",
    "test_vrf = root + \"test_verification\""
   ]
  },
  {
   "cell_type": "code",
   "execution_count": null,
   "metadata": {},
   "outputs": [],
   "source": [
    "train_dataset = datasets.ImageFolder(root = train_cls, \n",
    "                     transform=None, \n",
    "                     target_transform=None, \n",
    "                     loader=None, \n",
    "                     is_valid_file=None)"
   ]
  }
 ],
 "metadata": {
  "kernelspec": {
   "display_name": "Python 3",
   "language": "python",
   "name": "python3"
  },
  "language_info": {
   "codemirror_mode": {
    "name": "ipython",
    "version": 3
   },
   "file_extension": ".py",
   "mimetype": "text/x-python",
   "name": "python",
   "nbconvert_exporter": "python",
   "pygments_lexer": "ipython3",
   "version": "3.6.3"
  }
 },
 "nbformat": 4,
 "nbformat_minor": 2
}
